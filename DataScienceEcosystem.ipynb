{
 "cells": [
  {
   "cell_type": "markdown",
   "id": "d3b491c6-599d-4798-9f33-8399b4a4ae9b",
   "metadata": {},
   "source": [
    "<h1>Data Science Tools and Ecosystem </h1>"
   ]
  },
  {
   "cell_type": "markdown",
   "id": "a7bd6e2b-c2b0-43c5-98bc-eda69b9d8492",
   "metadata": {},
   "source": [
    "<h3> In this notbook, Data Science Tools and Ecosystem are summarized.</h3>"
   ]
  },
  {
   "cell_type": "markdown",
   "id": "3792308f-be0b-4eab-9202-b5a1f33e2bdd",
   "metadata": {},
   "source": [
    "## Objectives\n",
    "<ul>\n",
    "    <li>List popular Languages for Data Science</li>\n",
    "    <li>List commonly used libraries</li>\n",
    "    <li>List Data Science tools</li>\n",
    "    <li>Give examples of arithmetic expressions</li>\n",
    "</ul>\n",
    "<H2>Author</H2>\n",
    "Philip Orosco"
   ]
  },
  {
   "cell_type": "markdown",
   "id": "9b0007c4-ea17-4a4b-9efa-82ac5322790e",
   "metadata": {},
   "source": [
    "<h4>Some of the popular languages that Data Scientists use are:</h4>\n",
    "<ol>\n",
    "    <li>Python</li>\n",
    "    <li>R</li>\n",
    "    <li>SQL</li>\n",
    "    <li>Java</li>\n",
    "</ol>"
   ]
  },
  {
   "cell_type": "markdown",
   "id": "74efd1ba-186e-495d-8154-28cfdc9c1311",
   "metadata": {},
   "source": [
    "<h5>Some of the commonly used libraries used by Data Scientists include:</h5>\n",
    "<ol>\n",
    "    <li>numpy</li>\n",
    "    <li>pandas</li>\n",
    "    <li>tidyr</li>\n",
    "    <li>SQLAlchemy</li>\n",
    "</ol>"
   ]
  },
  {
   "cell_type": "markdown",
   "id": "31144787-4689-489f-bf9b-1f4073d8b672",
   "metadata": {},
   "source": [
    "|Data Science Tools |\n",
    "|-------------------|\n",
    "|Jupyter Notebook | \n",
    "|R studio|\n",
    "|Google Colab| \n",
    "|Microsoft Visual Studio Code| "
   ]
  },
  {
   "cell_type": "markdown",
   "id": "283415e5-2169-4f91-8d18-c44a457930f8",
   "metadata": {},
   "source": [
    "<h3>Below are a few examples of evaluating arithmetic expressions in Python</h3>"
   ]
  },
  {
   "cell_type": "code",
   "execution_count": 25,
   "id": "82df5e85-0797-4367-9e26-2fc7e5c99e2f",
   "metadata": {},
   "outputs": [
    {
     "data": {
      "text/plain": [
       "17"
      ]
     },
     "execution_count": 25,
     "metadata": {},
     "output_type": "execute_result"
    }
   ],
   "source": [
    "## This is a simple arithmetic expression to multiply then add integers\n",
    "(3*4)+5"
   ]
  },
  {
   "cell_type": "code",
   "execution_count": 29,
   "id": "58357de9-3c8c-4695-a54f-eca4ed29247f",
   "metadata": {},
   "outputs": [
    {
     "data": {
      "text/plain": [
       "3.3333333333333335"
      ]
     },
     "execution_count": 29,
     "metadata": {},
     "output_type": "execute_result"
    }
   ],
   "source": [
    "# This will convert 200 minutes into hours by dividing by 60\n",
    "200 / 60 "
   ]
  }
 ],
 "metadata": {
  "kernelspec": {
   "display_name": "Python 3 (ipykernel)",
   "language": "python",
   "name": "python3"
  },
  "language_info": {
   "codemirror_mode": {
    "name": "ipython",
    "version": 3
   },
   "file_extension": ".py",
   "mimetype": "text/x-python",
   "name": "python",
   "nbconvert_exporter": "python",
   "pygments_lexer": "ipython3",
   "version": "3.12.4"
  }
 },
 "nbformat": 4,
 "nbformat_minor": 5
}
